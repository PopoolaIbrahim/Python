{
  "nbformat": 4,
  "nbformat_minor": 0,
  "metadata": {
    "colab": {
      "provenance": [],
      "authorship_tag": "ABX9TyN4KkpXeNMMCmiDLt8+7ELD",
      "include_colab_link": true
    },
    "kernelspec": {
      "name": "python3",
      "display_name": "Python 3"
    },
    "language_info": {
      "name": "python"
    }
  },
  "cells": [
    {
      "cell_type": "markdown",
      "metadata": {
        "id": "view-in-github",
        "colab_type": "text"
      },
      "source": [
        "<a href=\"https://colab.research.google.com/github/PopoolaIbrahim/Python-Libraries/blob/main/PDF_to_Image.ipynb\" target=\"_parent\"><img src=\"https://colab.research.google.com/assets/colab-badge.svg\" alt=\"Open In Colab\"/></a>"
      ]
    },
    {
      "cell_type": "code",
      "execution_count": 4,
      "metadata": {
        "colab": {
          "base_uri": "https://localhost:8080/"
        },
        "id": "FAgYzAmpFwXC",
        "outputId": "f45ef533-b841-4b56-c83b-51d42030b366"
      },
      "outputs": [
        {
          "output_type": "stream",
          "name": "stdout",
          "text": [
            "Looking in indexes: https://pypi.org/simple, https://us-python.pkg.dev/colab-wheels/public/simple/\n",
            "Requirement already satisfied: PyMuPDF in /usr/local/lib/python3.9/dist-packages (1.22.1)\n"
          ]
        }
      ],
      "source": [
        "!pip install PyMuPDF     \n",
        "\n",
        "import fitz\n",
        "zoom_x = 3.0\n",
        "zoom_y = 3.0\n",
        "mat = fitz.Matrix(zoom_x, zoom_y)\n",
        "doc = fitz.open(\"ref.pdf\")\n",
        "for page in doc:\n",
        "    pix = page.get_pixmap(matrix=mat)\n",
        "    pix.save(\"image/page-%i.jpg\" % page.number)"
      ]
    }
  ]
}